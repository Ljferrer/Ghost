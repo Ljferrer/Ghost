{
 "cells": [
  {
   "cell_type": "code",
   "execution_count": 25,
   "metadata": {},
   "outputs": [],
   "source": [
    "import lyricsgenius as lg\n",
    "\n",
    "g = lg.Genius('bU5tInLQUYmOQZUsDOybYmJczWlfaQ0A-ds3CQ5iz3UbSWT13BC517qdcjVPwczW')\n",
    "g.excluded_terms = ['(Remix)', '(Live)', '(Translation)']"
   ]
  },
  {
   "cell_type": "code",
   "execution_count": 26,
   "metadata": {},
   "outputs": [
    {
     "name": "stdout",
     "output_type": "stream",
     "text": [
      "Searching for songs by Billie Eilish...\n",
      "\n",
      "Song 1: \"​when the party's over\"\n",
      "Song 2: \"​bury a friend\"\n",
      "Song 3: \"​idontwannabeyouanymore\"\n",
      "\n",
      "Reached user-specified song limit (3).\n",
      "Done. Found 3 songs.\n"
     ]
    }
   ],
   "source": [
    "bbel = g.search_artist('Billie Eilish', max_songs=3)"
   ]
  },
  {
   "cell_type": "code",
   "execution_count": 27,
   "metadata": {},
   "outputs": [
    {
     "data": {
      "text/plain": [
       "[(\"\\u200bwhen the party's over\", 'Billie Eilish'),\n",
       " ('\\u200bbury a friend', 'Billie Eilish'),\n",
       " ('\\u200bidontwannabeyouanymore', 'Billie Eilish')]"
      ]
     },
     "execution_count": 27,
     "metadata": {},
     "output_type": "execute_result"
    }
   ],
   "source": [
    "bbel.songs"
   ]
  },
  {
   "cell_type": "code",
   "execution_count": 31,
   "metadata": {},
   "outputs": [
    {
     "name": "stdin",
     "output_type": "stream",
     "text": [
      "lyrics_billieeilish_whenthepartysover.json already exists. Overwrite?\n",
      "(y/n):  n\n"
     ]
    },
    {
     "name": "stdout",
     "output_type": "stream",
     "text": [
      "Skipping file save.\n",
      "\n"
     ]
    },
    {
     "name": "stdin",
     "output_type": "stream",
     "text": [
      "lyrics_billieeilish_buryafriend.json already exists. Overwrite?\n",
      "(y/n):  n\n"
     ]
    },
    {
     "name": "stdout",
     "output_type": "stream",
     "text": [
      "Skipping file save.\n",
      "\n"
     ]
    },
    {
     "name": "stdin",
     "output_type": "stream",
     "text": [
      "lyrics_billieeilish_idontwannabeyouanymore.json already exists. Overwrite?\n",
      "(y/n):  n\n"
     ]
    },
    {
     "name": "stdout",
     "output_type": "stream",
     "text": [
      "Skipping file save.\n",
      "\n"
     ]
    }
   ],
   "source": [
    "bbel.save_lyrics()"
   ]
  },
  {
   "cell_type": "code",
   "execution_count": 28,
   "metadata": {},
   "outputs": [
    {
     "name": "stdout",
     "output_type": "stream",
     "text": [
      "[Verse 1]\n",
      "Don't you know I'm no good for you?\n",
      "I've learned to lose you, can't afford to\n",
      "Tore my shirt to stop you bleedin'\n",
      "But nothin' ever stops you leavin'\n",
      "\n",
      "[Chorus]\n",
      "Quiet when I'm coming home and I'm on my own\n",
      "I could lie, say I like it like that, like it like that\n",
      "I could lie, say I like it like that, like it like that\n",
      "\n",
      "[Verse 2]\n",
      "Don't you know too much already?\n",
      "I'll only hurt you if you let me\n",
      "Call me friend, but keep me closer (Call me back)\n",
      "And I'll call you when the party's over\n",
      "\n",
      "[Chorus]\n",
      "Quiet when I'm coming home and I'm on my own\n",
      "And I could lie, say I like it like that, like it like that\n",
      "Yeah, I could lie, say I like it like that, like it like that\n",
      "\n",
      "[Bridge]\n",
      "But nothin' is better sometimes\n",
      "Once we've both said our goodbyes\n",
      "Let's just let it go\n",
      "Let me let you go\n",
      "\n",
      "[Chorus]\n",
      "Quiet when I'm coming home and I'm on my own\n",
      "I could lie, say I like it like that, like it like that\n",
      "I could lie, say I like it like that, like it like that\n"
     ]
    }
   ],
   "source": [
    "for song_name in bbel.songs:\n",
    "    print(song_name.lyrics)\n",
    "    break"
   ]
  },
  {
   "cell_type": "code",
   "execution_count": null,
   "metadata": {},
   "outputs": [],
   "source": []
  }
 ],
 "metadata": {
  "kernelspec": {
   "display_name": "GG",
   "language": "python",
   "name": "gg"
  },
  "language_info": {
   "codemirror_mode": {
    "name": "ipython",
    "version": 3
   },
   "file_extension": ".py",
   "mimetype": "text/x-python",
   "name": "python",
   "nbconvert_exporter": "python",
   "pygments_lexer": "ipython3",
   "version": "3.7.3"
  }
 },
 "nbformat": 4,
 "nbformat_minor": 2
}
