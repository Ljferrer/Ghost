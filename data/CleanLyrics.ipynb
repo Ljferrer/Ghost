{
 "cells": [
  {
   "cell_type": "code",
   "execution_count": null,
   "metadata": {},
   "outputs": [],
   "source": [
    "import re\n",
    "import json\n",
    "import spacy\n",
    "\n",
    "from pathlib import Path\n",
    "from sqlitedict import SqliteDict\n",
    "from spacy_langdetect import LanguageDetector"
   ]
  },
  {
   "cell_type": "code",
   "execution_count": null,
   "metadata": {},
   "outputs": [],
   "source": [
    "raw_lyrics_dir = Path('./rawLyrics/')\n",
    "raw_lyrics_files = list(raw_lyrics_dir.glob('*.json'))\n",
    "print(f'Found {len(raw_lyrics_files)} files')\n",
    "\n",
    "clean_lyrics_dir = Path('./cleanLyrics/')\n",
    "clean_lyrics_dir.mkdir(exist_ok=True)\n",
    "\n",
    "all_lyrics = Path('AllLyrics.sqlite')\n",
    "aly = SqliteDict(all_lyrics)"
   ]
  },
  {
   "cell_type": "code",
   "execution_count": null,
   "metadata": {},
   "outputs": [],
   "source": []
  },
  {
   "cell_type": "code",
   "execution_count": null,
   "metadata": {},
   "outputs": [],
   "source": [
    "class LyricGeniusFormatter:\n",
    "    def __init__(self):\n",
    "        self.nlp = spacy.load('en')\n",
    "        self.nlp.add_pipe(LanguageDetector(), name=\"language_detector\", last=True)\n",
    "\n",
    "    def detect_lang(self, text: str):\n",
    "        doc = self.nlp(text)\n",
    "        return doc._.language\n",
    "\n",
    "    def format_lyrics(self, raw_lyrics_file: Path):\n",
    "\n",
    "        # Load song dict\n",
    "        with open(raw_lyrics_file, 'r') as rlf:\n",
    "            raw = json.loads(rlf.read())\n",
    "        raw_lyrics = str(raw['songs'][0]['lyrics'])\n",
    "\n",
    "        # Detect language\n",
    "        detect = self.detect_lang(raw_lyrics)\n",
    "        if 'en' not in detect['language'] or detect['score'] < 0.9:\n",
    "            print(f'Not EN: {raw_lyrics_file}\\n')\n",
    "            return\n",
    "\n",
    "        # Copy fields\n",
    "        formatted = dict()\n",
    "        formatted['artist'] = raw['artist']\n",
    "        formatted['title'] = raw['songs'][0]['title']\n",
    "        formatted['year'] = raw['songs'][0]['year']\n",
    "        formatted['image'] = raw['songs'][0]['image']\n",
    "        formatted['raw_lyrics'] = raw_lyrics\n",
    "\n",
    "        # Clean lyrics\n",
    "        sections = list()\n",
    "        header_seed = '(\\n\\n(\\[.*|\\(.*\\)|\\{.*|[0-9].*|.*:\\n|[R-r]epeat.*))'\n",
    "        # For splitting by \\n\\n followed by\n",
    "        # [... , (...) , {... , int... , ...: , or (R/r)epeat...\n",
    "        raw_sections = re.split(header_seed, '\\n\\n' + raw_lyrics)           # Catch [Intro]\n",
    "        for raw_sect in raw_sections:\n",
    "            clean_sect = re.sub(r'\\([^)].*\\)|\\[.*?\\]|\\(|\\)', '', raw_sect)  # Clean residual\n",
    "            split_sect = [l for l in clean_sect.split('\\n') if l]\n",
    "            if len(split_sect) > 1:\n",
    "                sections.append(split_sect)\n",
    "\n",
    "        formatted['sections'] = sections\n",
    "\n",
    "        return formatted"
   ]
  },
  {
   "cell_type": "code",
   "execution_count": null,
   "metadata": {},
   "outputs": [],
   "source": [
    "# TEST\n",
    "f = LyricGeniusFormatter()\n",
    "\n",
    "for i, rlf in enumerate(raw_lyrics_files):\n",
    "    formatted_song = f.format_lyrics(rlf)\n",
    "\n",
    "    # Verify visually\n",
    "    if i == 0:\n",
    "        for k, v in formatted_song.items():\n",
    "            if isinstance(v, list):\n",
    "                print(f'\\n\\n{k}\\n')\n",
    "                for s in v:\n",
    "                    for l in s:\n",
    "                        print(l)\n",
    "                    print('\\n')\n",
    "            else:\n",
    "                print(f'{k} :: {v}\\n')\n",
    "        break"
   ]
  },
  {
   "cell_type": "code",
   "execution_count": null,
   "metadata": {},
   "outputs": [],
   "source": []
  },
  {
   "cell_type": "code",
   "execution_count": null,
   "metadata": {},
   "outputs": [],
   "source": [
    "# Make {artist}_lyrics.txt for each artist\n",
    "for i, rlf in enumerate(raw_lyrics_files):\n",
    "    formatted_song = f.format_lyrics(rlf)\n",
    "\n",
    "    lyrics_file = Path(f'./cleanLyrics/{artist}_allcleansongs.txt')\n",
    "    with open(lyrics_file, 'a') as lf:\n",
    "        for section in formatted_song['sections']:\n",
    "            for l in section['text']:\n",
    "                lf.write(f'{l}\\n')\n",
    "            lf.write('\\n')  # Double newline between sections\n",
    "        lf.write('\\n')      # Tripple newline between songs\n",
    "\n",
    "    # Verify visually \n",
    "    if i == 0:\n",
    "        with open(lyrics_file, 'r') as lf:\n",
    "            for line in lf:\n",
    "                print(f'{len(line):2d} :: {line}')\n",
    "        break"
   ]
  },
  {
   "cell_type": "code",
   "execution_count": null,
   "metadata": {},
   "outputs": [],
   "source": []
  },
  {
   "cell_type": "code",
   "execution_count": null,
   "metadata": {},
   "outputs": [],
   "source": [
    "# Put lyrics in AllLyrics.sqlite\n",
    "for i, rlf in enumerate(raw_lyrics_files):\n",
    "    formatted_song = f.format_lyrics(rlf)\n",
    "\n",
    "    artist = formatted_song['artist']\n",
    "    if artist not in aly:\n",
    "        aly[artist] = list()\n",
    "    if len(aly[artist]) == 0 or formatted_song['title'] not in aly[artist][:]['title']:\n",
    "        aly[artist].append(formatted_song)"
   ]
  },
  {
   "cell_type": "code",
   "execution_count": null,
   "metadata": {},
   "outputs": [],
   "source": []
  },
  {
   "cell_type": "code",
   "execution_count": null,
   "metadata": {},
   "outputs": [],
   "source": []
  }
 ],
 "metadata": {
  "kernelspec": {
   "display_name": "GG",
   "language": "python",
   "name": "gg"
  },
  "language_info": {
   "codemirror_mode": {
    "name": "ipython",
    "version": 3
   },
   "file_extension": ".py",
   "mimetype": "text/x-python",
   "name": "python",
   "nbconvert_exporter": "python",
   "pygments_lexer": "ipython3",
   "version": "3.7.3"
  }
 },
 "nbformat": 4,
 "nbformat_minor": 2
}
