{
 "cells": [
  {
   "cell_type": "code",
   "execution_count": null,
   "metadata": {},
   "outputs": [],
   "source": [
    "import re\n",
    "import json\n",
    "import spacy\n",
    "\n",
    "from pathlib import Path\n",
    "from sqlitedict import SqliteDict\n",
    "from spacy_langdetect import LanguageDetector"
   ]
  },
  {
   "cell_type": "code",
   "execution_count": null,
   "metadata": {},
   "outputs": [],
   "source": [
    "raw_lyrics_dir = Path('./rawLyrics/')\n",
    "raw_lyrics_files = list(raw_lyrics_dir.glob('*.json'))\n",
    "print(f'Found {len(raw_lyrics_files)} files')\n",
    "\n",
    "clean_lyrics_dir = Path('./cleanLyrics/')\n",
    "clean_lyrics_dir.mkdir(exist_ok=True)\n",
    "\n",
    "all_lyrics = Path('AllLyrics.sqlite')\n",
    "aly = SqliteDict(all_lyrics)"
   ]
  },
  {
   "cell_type": "code",
   "execution_count": null,
   "metadata": {},
   "outputs": [],
   "source": []
  },
  {
   "cell_type": "code",
   "execution_count": null,
   "metadata": {},
   "outputs": [],
   "source": [
    "class Formatter:\n",
    "    def __init__(self):\n",
    "        self.nlp = spacy.load('en')\n",
    "        self.nlp.add_pipe(LanguageDetector(), name=\"language_detector\", last=True)\n",
    "\n",
    "    def detect_lang(self, text: str):\n",
    "        doc = self.nlp(text)\n",
    "        return doc._.language\n",
    "        \n",
    "    def format_lyrics(self, raw_lyrics_file: Path):\n",
    "\n",
    "        # Load song dict\n",
    "        with open(raw_lyrics_file, 'r') as rlf:\n",
    "            raw = json.loads(rlf.read())\n",
    "        raw_lyrics = str(raw['songs'][0]['lyrics'])\n",
    "\n",
    "        # Detect language\n",
    "        detect = self.detect_lang(raw_lyrics)\n",
    "        if 'en' not in detect['language'] or detect['score'] < 0.9:\n",
    "            print(f'Not EN: {raw_lyrics_file}\\n')\n",
    "            return\n",
    "\n",
    "        # Copy fields\n",
    "        formatted = dict()\n",
    "        formatted['artist'] = raw['artist']\n",
    "        formatted['title'] = raw['songs'][0]['title']\n",
    "        formatted['year'] = raw['songs'][0]['year']\n",
    "        formatted['image'] = raw['songs'][0]['image']\n",
    "        formatted['raw_lyrics'] = raw_lyrics\n",
    "\n",
    "        # Clean lyrics\n",
    "        no_headers = re.sub(r'\\[.*?\\]', '', raw_lyrics)          # Remove brackets\n",
    "        no_parenth = re.sub(r'\\([^)]*\\)', '', no_headers)        # Remove parentheses\n",
    "        clean_lyrics = [l for l in no_parenth.split('\\n') if l]  # Remove empty strings\n",
    "        formatted['clean_lyrics'] = clean_lyrics\n",
    "\n",
    "        # Format sections\n",
    "        sections = list()\n",
    "        section = dict()\n",
    "        for chunk in raw_lyrics.split('\\n\\n'):  # Split sections by double newline \n",
    "            lines = [l for l in chunk.split('\\n') if l] \n",
    "\n",
    "            # Find headder\n",
    "            if len(lines) > 2 and any(c in lines[0] for c in ['[', '(', '{', ':']):\n",
    "                section['type'] = lines[0]\n",
    "                section['text'] = [re.sub(r'\\([^)]*\\)', '', l) for l in lines[1:]]  \n",
    "\n",
    "            # Sometimes headder is in 2nd line\n",
    "            elif len(lines) > 3 and any(c in lines[1] for c in ['[', '(', '{', ':']): \n",
    "                section['type'] = lines[1]\n",
    "                section['text'] = [re.sub(r'\\([^)]*\\)', '', l) for l in lines[2:]] \n",
    "\n",
    "            # Record exceptions\n",
    "            elif len(lines) > 1:\n",
    "                section['type'] = 'MISSING HEADER'\n",
    "                section['text'] = lines\n",
    "            else:\n",
    "                print(f'{lines}\\n\\n')\n",
    "                section['type'] = 'UNKNOWN'\n",
    "                section['text'] = lines\n",
    "\n",
    "            sections.append(section)\n",
    "            section = dict()\n",
    "\n",
    "        formatted['sections'] = sections\n",
    "\n",
    "        return formatted"
   ]
  },
  {
   "cell_type": "code",
   "execution_count": null,
   "metadata": {},
   "outputs": [],
   "source": [
    "# TEST\n",
    "f = Formatter()\n",
    "\n",
    "for i, rlf in enumerate(raw_lyrics_files):\n",
    "    formatted = f.format_lyrics(rlf)\n",
    "\n",
    "    if i == 0:\n",
    "        for k, v in formatted.items():\n",
    "            print(f'{k} :: {v}')\n",
    "        break\n"
   ]
  },
  {
   "cell_type": "code",
   "execution_count": null,
   "metadata": {},
   "outputs": [],
   "source": []
  }
 ],
 "metadata": {
  "kernelspec": {
   "display_name": "GG",
   "language": "python",
   "name": "gg"
  },
  "language_info": {
   "codemirror_mode": {
    "name": "ipython",
    "version": 3
   },
   "file_extension": ".py",
   "mimetype": "text/x-python",
   "name": "python",
   "nbconvert_exporter": "python",
   "pygments_lexer": "ipython3",
   "version": "3.7.3"
  }
 },
 "nbformat": 4,
 "nbformat_minor": 2
}
