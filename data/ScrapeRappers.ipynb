{
 "cells": [
  {
   "cell_type": "code",
   "execution_count": 1,
   "metadata": {},
   "outputs": [],
   "source": [
    "import os\n",
    "from pathlib import Path\n",
    "\n",
    "import lyricsgenius as lg\n",
    "\n",
    "# Need Genius API Access Token \n",
    "g = lg.Genius('')\n",
    "g.excluded_terms = ['(Remix)', '(Live)', '(Translation)']"
   ]
  },
  {
   "cell_type": "code",
   "execution_count": 2,
   "metadata": {},
   "outputs": [
    {
     "name": "stdout",
     "output_type": "stream",
     "text": [
      "n Artists: 1362\n"
     ]
    }
   ],
   "source": [
    "names_txt = Path('WikipediaRapArtists.txt')\n",
    "saved_txt = Path('SavedArtists.txt')\n",
    "lyric_dir = Path('rawLyrics/')\n",
    "\n",
    "os.makedirs(lyric_dir, exist_ok=True)\n",
    "\n",
    "with open(names_txt, 'r') as rappers:\n",
    "    print(f'n Artists: {len(list(rappers))}')"
   ]
  },
  {
   "cell_type": "code",
   "execution_count": null,
   "metadata": {},
   "outputs": [],
   "source": [
    "s = list()\n",
    "\n",
    "if os.path.isfile(saved_txt):\n",
    "    with open(saved_txt, 'r') as sa:\n",
    "        for artist in sa:\n",
    "            s.append(artist.replace('\\n', ''))\n",
    "    print(f'Last artist downloaded: {s[-1]}')\n",
    "\n",
    "else:  # Create file \n",
    "    with open(saved_txt, 'w') as sa:\n",
    "        pass\n",
    "\n",
    "print(f'Total artists downloaded: {len(s)}')"
   ]
  },
  {
   "cell_type": "code",
   "execution_count": null,
   "metadata": {},
   "outputs": [],
   "source": [
    "with open(names_txt, 'r') as rappers: \n",
    "    for name in rappers:\n",
    "        name = name.replace('\\n', '')\n",
    "\n",
    "        if name in s:  # Skip\n",
    "            print(f'Artist already saved: {name}')\n",
    "\n",
    "        else:          # Get\n",
    "            n_songs = len(list(Path(lyric_dir).glob('*.json')))\n",
    "            print(f'\\n * Songs saved: {n_songs} * \\n\\n')\n",
    "\n",
    "            try:\n",
    "                artist = g.search_artist(name, sort='title')\n",
    "                artist.save_lyrics(overwrite=True)\n",
    "\n",
    "            # Skip null artists\n",
    "            except AttributeError:  \n",
    "                pass\n",
    "\n",
    "            # LyricsGenius is a little buggy\n",
    "            except Exception as e:\n",
    "                print(len(artist))\n",
    "                print(f'\\nException occurred: {e} \\n\\n'\n",
    "                      f'Tip: Nonetype Iter or Connection errors --> rerun')\n",
    "                break\n",
    "\n",
    "            # Move saved songs to lyric_dir\n",
    "            raw_songs = list(Path('').glob('*.json'))\n",
    "            for song in raw_songs:\n",
    "                os.system(f'mv {song} {lyric_dir}')\n",
    "\n",
    "            # Record progress \n",
    "            s.append(name)\n",
    "            with open(saved_txt, 'a') as sa:\n",
    "                sa.write(f'{name}\\n')\n"
   ]
  },
  {
   "cell_type": "code",
   "execution_count": null,
   "metadata": {},
   "outputs": [],
   "source": []
  }
 ],
 "metadata": {
  "kernelspec": {
   "display_name": "GG",
   "language": "python",
   "name": "gg"
  },
  "language_info": {
   "codemirror_mode": {
    "name": "ipython",
    "version": 3
   },
   "file_extension": ".py",
   "mimetype": "text/x-python",
   "name": "python",
   "nbconvert_exporter": "python",
   "pygments_lexer": "ipython3",
   "version": "3.7.3"
  }
 },
 "nbformat": 4,
 "nbformat_minor": 2
}
